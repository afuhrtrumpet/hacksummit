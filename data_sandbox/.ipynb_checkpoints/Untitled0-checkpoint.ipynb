{
 "metadata": {
  "name": "",
  "signature": "sha256:600fc36beae2377bc00b240eed432e8fb3ec762942fd6230b440d57bc93b917d"
 },
 "nbformat": 3,
 "nbformat_minor": 0,
 "worksheets": []
}